{
  "nbformat": 4,
  "nbformat_minor": 0,
  "metadata": {
    "colab": {
      "provenance": [],
      "include_colab_link": true
    },
    "kernelspec": {
      "name": "python3",
      "display_name": "Python 3"
    },
    "language_info": {
      "name": "python"
    }
  },
  "cells": [
    {
      "cell_type": "markdown",
      "metadata": {
        "id": "view-in-github",
        "colab_type": "text"
      },
      "source": [
        "<a href=\"https://colab.research.google.com/github/HromovAndrey/II_Homework_mood_6_part_2/blob/main/%D0%94%D0%97_20.ipynb\" target=\"_parent\"><img src=\"https://colab.research.google.com/assets/colab-badge.svg\" alt=\"Open In Colab\"/></a>"
      ]
    },
    {
      "cell_type": "markdown",
      "source": [
        "# Завдання\n",
        "\n",
        "[Посилання](https://www.kaggle.com/datasets/mexwell/telegram-spam-or-ham)\n",
        "\n",
        "За допомогою `pytorch` проведіть класифікацію тексту:\n",
        "\n",
        "* Завантажте усі датафрейм\n",
        "* Створіть датасет з використанням `Glove`\n",
        "* Перевірте розмірність даних у датасеті\n",
        "* Розділіть дані на тренувальні та тестові, створіть `data_loader`\n",
        "* Створіть модель та натренуйте її\n",
        "* Виведіть результати класифікації\n",
        "\n",
        "Додатково\n",
        "* Можна вказати параметр `weight` у `CrossEntropyLoss` для кращої класифікації"
      ],
      "metadata": {
        "id": "DAH65jNQPXur"
      }
    },
    {
      "cell_type": "code",
      "execution_count": null,
      "metadata": {
        "id": "rWAz7ILkPKyr"
      },
      "outputs": [],
      "source": [
        "import torch\n",
        "device = \"cuda\" if torch.cuda.is_available() else \"cpu\""
      ]
    },
    {
      "cell_type": "code",
      "source": [
        "import pandas as pd\n",
        "\n",
        "df = pd.read_csv(\"/content/archive (4).zip\")\n",
        "df.head()"
      ],
      "metadata": {
        "id": "3dIwRrbKcptv"
      },
      "execution_count": null,
      "outputs": []
    },
    {
      "cell_type": "code",
      "source": [
        "pip uninstall torch torchtext\n",
        "pip install torch==2.0.1 torchtext==0.15.2"
      ],
      "metadata": {
        "id": "BiYQRPtgc4I-"
      },
      "execution_count": null,
      "outputs": []
    },
    {
      "cell_type": "code",
      "source": [
        "import torchtext\n"
      ],
      "metadata": {
        "id": "fMwcEBIVc7XF"
      },
      "execution_count": null,
      "outputs": []
    }
  ]
}