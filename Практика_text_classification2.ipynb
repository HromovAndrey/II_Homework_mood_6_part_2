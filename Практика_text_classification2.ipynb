{
  "nbformat": 4,
  "nbformat_minor": 0,
  "metadata": {
    "colab": {
      "provenance": [],
      "include_colab_link": true
    },
    "kernelspec": {
      "name": "python3",
      "display_name": "Python 3"
    },
    "language_info": {
      "name": "python"
    }
  },
  "cells": [
    {
      "cell_type": "markdown",
      "metadata": {
        "id": "view-in-github",
        "colab_type": "text"
      },
      "source": [
        "<a href=\"https://colab.research.google.com/github/HromovAndrey/II_Homework_mood_6_part_2/blob/main/%D0%9F%D1%80%D0%B0%D0%BA%D1%82%D0%B8%D0%BA%D0%B0_text_classification2.ipynb\" target=\"_parent\"><img src=\"https://colab.research.google.com/assets/colab-badge.svg\" alt=\"Open In Colab\"/></a>"
      ]
    },
    {
      "cell_type": "markdown",
      "source": [
        "# Завдання\n",
        "\n",
        "* Завантажте усі датафрейми\n",
        "* Добавте до кожного стовпчик `labels` з відповідним йому класом(bussiness, sports, education, etc). назви класів беріть з назв файлів\n",
        "* Об'єднайте всі датафрейми в один, див [pd.concat](https://pandas.pydata.org/docs/reference/api/pandas.concat.html)\n",
        "* Створіть стовпчик `text` в якому зберігатиметься текст для подальшої роботи. Можети вибрати такі варіанти:\n",
        "  * Взяти один зі стовпчиків `headline`, `description`, `content`\n",
        "  * Об'єднати тексти зі стовпчиків `headline`, `description`, `content`\n",
        "* Видаліть стовпчики `headline`, `description`, `content`, `url`\n",
        "* Розділіть дані на тренувальні та тестові\n",
        "* Застосуйте `TfidfVectorizer`\n",
        "* Натренуйте модель\n",
        "* Виведіть результати\n",
        "\n",
        "**Додатково**\n",
        "* У `MyTokenizer` добавте обробку тексту за допомогою `nltk`, застусуйте один з варіантів:\n",
        "  * стематизація\n",
        "  * лематизація(використайте `nltk.pos_tag` для визначення частини мови)\n",
        "  * обидва варіанти\n",
        "* Використайте `n-gram` для класифікації(можливо доведеться збільшити `max_features`)\n",
        "* Натренуйте різні моделі:\n",
        "  * [DecisionTreeClassifier](https://scikit-learn.org/stable/modules/generated/sklearn.tree.DecisionTreeClassifier.html#sklearn.tree.DecisionTreeClassifier)\n",
        "  * [GaussianNB](https://scikit-learn.org/stable/modules/generated/sklearn.naive_bayes.GaussianNB.html#sklearn.naive_bayes.GaussianNB)\n",
        "  * [SVC](https://scikit-learn.org/stable/modules/generated/sklearn.svm.SVC.html#sklearn.svm.SVC) з параметром `kernel=\"linear\"`\n",
        "  * [SVC](https://scikit-learn.org/stable/modules/generated/sklearn.svm.SVC.html#sklearn.svm.SVC) з параметром `kernel=\"rbf\"`\n",
        "  * [MLPClassifier](https://scikit-learn.org/stable/modules/generated/sklearn.neural_network.MLPClassifier.html#sklearn.neural_network.MLPClassifier)\n",
        "* Використайте `optuna` для підбору гіперпараметрів\n"
      ],
      "metadata": {
        "id": "5QELje_64yp4"
      }
    },
    {
      "cell_type": "markdown",
      "source": [
        "# Дані про статті"
      ],
      "metadata": {
        "id": "c0s4j60x4tLg"
      }
    },
    {
      "cell_type": "code",
      "execution_count": 13,
      "metadata": {
        "id": "QZ3aCzvW39j7"
      },
      "outputs": [],
      "source": [
        "import pandas as pd\n",
        "\n",
        "df1 = pd.read_csv(\"https://raw.githubusercontent.com/HalyshAnton/IT-Step-Pyton-AI/main/module6/data/business_data.csv\")\n",
        "df2 = pd.read_csv(\"https://raw.githubusercontent.com/HalyshAnton/IT-Step-Pyton-AI/main/module6/data/education_data.csv\")\n",
        "df3 = pd.read_csv(\"https://raw.githubusercontent.com/HalyshAnton/IT-Step-Pyton-AI/main/module6/data/entertainment_data.csv\")\n",
        "df4 = pd.read_csv(\"https://raw.githubusercontent.com/HalyshAnton/IT-Step-Pyton-AI/main/module6/data/sports_data.csv\")\n",
        "df5 = pd.read_csv(\"https://raw.githubusercontent.com/HalyshAnton/IT-Step-Pyton-AI/main/module6/data/technology_data.csv\")"
      ]
    },
    {
      "cell_type": "code",
      "source": [
        "df1['labels'] = 'business'\n",
        "df2['labels'] = 'education'\n",
        "df3['labels'] = 'entertainment'\n",
        "df4['labels'] = 'sports'\n",
        "df5['labels'] = 'technology'\n",
        "\n",
        "df = pd.concat([df1, df2, df3, df4, df5], ignore_index=True)"
      ],
      "metadata": {
        "id": "vRhWPRoA4ly4"
      },
      "execution_count": 14,
      "outputs": []
    },
    {
      "cell_type": "code",
      "source": [
        "df['text'] = df['headlines'].fillna('') + ' ' + df['description'].fillna('') + ' ' + df['content'].fillna('')\n",
        "\n",
        "df.drop(['headlines', 'description', 'content', 'url'], axis=1, inplace=True)\n"
      ],
      "metadata": {
        "id": "tu7ZovQWpgEU"
      },
      "execution_count": 15,
      "outputs": []
    },
    {
      "cell_type": "code",
      "source": [
        "from sklearn.model_selection import train_test_split\n",
        "\n",
        "X_train, X_test, y_train, y_test = train_test_split(df['text'], df['labels'], test_size=0.2, random_state=42)\n"
      ],
      "metadata": {
        "id": "10BHAGbCplJv"
      },
      "execution_count": 16,
      "outputs": []
    },
    {
      "cell_type": "code",
      "source": [
        "from sklearn.feature_extraction.text import TfidfVectorizer\n",
        "\n",
        "vectorizer = TfidfVectorizer(max_features=5000, ngram_range=(1, 2))\n",
        "X_train_tfidf = vectorizer.fit_transform(X_train)\n",
        "X_test_tfidf = vectorizer.transform(X_test)\n"
      ],
      "metadata": {
        "id": "gvMcz1Tapo9z"
      },
      "execution_count": 17,
      "outputs": []
    },
    {
      "cell_type": "code",
      "source": [
        "from sklearn.tree import DecisionTreeClassifier\n",
        "from sklearn.naive_bayes import GaussianNB\n",
        "from sklearn.svm import SVC\n",
        "from sklearn.neural_network import MLPClassifier\n",
        "from sklearn.metrics import classification_report\n",
        "\n",
        "dt_model = DecisionTreeClassifier(random_state=42)\n",
        "dt_model.fit(X_train_tfidf, y_train)\n",
        "y_pred_dt = dt_model.predict(X_test_tfidf)\n",
        "print(\"DecisionTreeClassifier Report:\")\n",
        "print(classification_report(y_test, y_pred_dt))\n",
        "\n",
        "nb_model = GaussianNB()\n",
        "nb_model.fit(X_train_tfidf.toarray(), y_train)\n",
        "y_pred_nb = nb_model.predict(X_test_tfidf.toarray())\n",
        "print(\"GaussianNB Report:\")\n",
        "print(classification_report(y_test, y_pred_nb))\n",
        "\n",
        "svc_linear_model = SVC(kernel=\"linear\", random_state=42)\n",
        "svc_linear_model.fit(X_train_tfidf, y_train)\n",
        "y_pred_svc_linear = svc_linear_model.predict(X_test_tfidf)\n",
        "print(\"SVC with linear kernel Report:\")\n",
        "print(classification_report(y_test, y_pred_svc_linear))\n",
        "\n",
        "svc_rbf_model = SVC(kernel=\"rbf\", random_state=42)\n",
        "svc_rbf_model.fit(X_train_tfidf, y_train)\n",
        "y_pred_svc_rbf = svc_rbf_model.predict(X_test_tfidf)\n",
        "print(\"SVC with rbf kernel Report:\")\n",
        "print(classification_report(y_test, y_pred_svc_rbf))\n",
        "\n",
        "mlp_model = MLPClassifier(random_state=42)\n",
        "mlp_model.fit(X_train_tfidf, y_train)\n",
        "y_pred_mlp = mlp_model.predict(X_test_tfidf)\n",
        "print(\"MLPClassifier Report:\")\n",
        "print(classification_report(y_test, y_pred_mlp))\n"
      ],
      "metadata": {
        "colab": {
          "base_uri": "https://localhost:8080/"
        },
        "id": "xTFj2opxpzCu",
        "outputId": "abef7b3c-8913-499b-e03c-7cd86831622e"
      },
      "execution_count": 18,
      "outputs": [
        {
          "output_type": "stream",
          "name": "stdout",
          "text": [
            "DecisionTreeClassifier Report:\n",
            "               precision    recall  f1-score   support\n",
            "\n",
            "     business       0.86      0.87      0.87       410\n",
            "    education       0.91      0.90      0.91       393\n",
            "entertainment       0.94      0.94      0.94       395\n",
            "       sports       0.90      0.90      0.90       415\n",
            "   technology       0.83      0.83      0.83       387\n",
            "\n",
            "     accuracy                           0.89      2000\n",
            "    macro avg       0.89      0.89      0.89      2000\n",
            " weighted avg       0.89      0.89      0.89      2000\n",
            "\n",
            "GaussianNB Report:\n",
            "               precision    recall  f1-score   support\n",
            "\n",
            "     business       0.94      0.96      0.95       410\n",
            "    education       0.98      0.96      0.97       393\n",
            "entertainment       0.97      0.97      0.97       395\n",
            "       sports       0.97      0.98      0.97       415\n",
            "   technology       0.94      0.93      0.93       387\n",
            "\n",
            "     accuracy                           0.96      2000\n",
            "    macro avg       0.96      0.96      0.96      2000\n",
            " weighted avg       0.96      0.96      0.96      2000\n",
            "\n",
            "SVC with linear kernel Report:\n",
            "               precision    recall  f1-score   support\n",
            "\n",
            "     business       0.98      0.97      0.98       410\n",
            "    education       1.00      0.99      0.99       393\n",
            "entertainment       1.00      1.00      1.00       395\n",
            "       sports       1.00      0.99      0.99       415\n",
            "   technology       0.96      0.97      0.97       387\n",
            "\n",
            "     accuracy                           0.99      2000\n",
            "    macro avg       0.99      0.99      0.99      2000\n",
            " weighted avg       0.99      0.99      0.99      2000\n",
            "\n",
            "SVC with rbf kernel Report:\n",
            "               precision    recall  f1-score   support\n",
            "\n",
            "     business       0.98      0.97      0.98       410\n",
            "    education       1.00      0.99      0.99       393\n",
            "entertainment       1.00      1.00      1.00       395\n",
            "       sports       1.00      1.00      1.00       415\n",
            "   technology       0.96      0.97      0.97       387\n",
            "\n",
            "     accuracy                           0.99      2000\n",
            "    macro avg       0.99      0.99      0.99      2000\n",
            " weighted avg       0.99      0.99      0.99      2000\n",
            "\n",
            "MLPClassifier Report:\n",
            "               precision    recall  f1-score   support\n",
            "\n",
            "     business       0.98      0.98      0.98       410\n",
            "    education       0.99      0.99      0.99       393\n",
            "entertainment       0.99      1.00      1.00       395\n",
            "       sports       1.00      1.00      1.00       415\n",
            "   technology       0.97      0.97      0.97       387\n",
            "\n",
            "     accuracy                           0.99      2000\n",
            "    macro avg       0.99      0.99      0.99      2000\n",
            " weighted avg       0.99      0.99      0.99      2000\n",
            "\n"
          ]
        }
      ]
    },
    {
      "cell_type": "code",
      "source": [
        "import nltk\n",
        "from nltk.stem import WordNetLemmatizer, PorterStemmer\n",
        "from nltk.corpus import stopwords\n",
        "\n",
        "# Загрузка необходимых ресурсов NLTK\n",
        "nltk.download('punkt')\n",
        "nltk.download('wordnet')\n",
        "nltk.download('averaged_perceptron_tagger')\n",
        "nltk.download('stopwords')  # Загружаем стоп-слова\n",
        "\n",
        "lemmatizer = WordNetLemmatizer()\n",
        "stemmer = PorterStemmer()\n",
        "stop_words = set(stopwords.words('english'))\n",
        "\n",
        "class MyTokenizer:\n",
        "    def __init__(self, use_lemmatization=True, use_stemming=False):\n",
        "        self.use_lemmatization = use_lemmatization\n",
        "        self.use_stemming = use_stemming\n",
        "\n",
        "    def tokenize(self, text):\n",
        "        words = nltk.word_tokenize(text)\n",
        "        if self.use_lemmatization:\n",
        "            words = [lemmatizer.lemmatize(word) for word in words]\n",
        "        if self.use_stemming:\n",
        "            words = [stemmer.stem(word) for word in words]\n",
        "        words = [word for word in words if word.isalnum() and word not in stop_words]\n",
        "        return ' '.join(words)\n",
        "\n",
        "# Применение токенизатора к тексту\n",
        "tokenizer = MyTokenizer(use_lemmatization=True, use_stemming=True)\n",
        "df['text'] = df['text'].apply(tokenizer.tokenize)\n"
      ],
      "metadata": {
        "id": "xNhxQql7sW-q",
        "outputId": "58dec5d2-a9ce-4483-bb58-652801167412",
        "colab": {
          "base_uri": "https://localhost:8080/"
        }
      },
      "execution_count": 19,
      "outputs": [
        {
          "output_type": "stream",
          "name": "stderr",
          "text": [
            "[nltk_data] Downloading package punkt to /root/nltk_data...\n",
            "[nltk_data]   Package punkt is already up-to-date!\n",
            "[nltk_data] Downloading package wordnet to /root/nltk_data...\n",
            "[nltk_data]   Package wordnet is already up-to-date!\n",
            "[nltk_data] Downloading package averaged_perceptron_tagger to\n",
            "[nltk_data]     /root/nltk_data...\n",
            "[nltk_data]   Package averaged_perceptron_tagger is already up-to-\n",
            "[nltk_data]       date!\n",
            "[nltk_data] Downloading package stopwords to /root/nltk_data...\n",
            "[nltk_data]   Package stopwords is already up-to-date!\n"
          ]
        }
      ]
    },
    {
      "cell_type": "code",
      "source": [
        "import optuna\n",
        "from sklearn.model_selection import cross_val_score\n",
        "\n",
        "def objective(trial):\n",
        "    svc_c = trial.suggest_loguniform('svc_c', 1e-3, 1e3)\n",
        "    svc_gamma = trial.suggest_loguniform('svc_gamma', 1e-4, 1e-1)\n",
        "\n",
        "    model = SVC(C=svc_c, gamma=svc_gamma, kernel=\"rbf\", random_state=42)\n",
        "    score = cross_val_score(model, X_train_tfidf, y_train, cv=3, scoring='accuracy').mean()\n",
        "\n",
        "    return score\n",
        "\n",
        "study = optuna.create_study(direction='maximize')\n",
        "study.optimize(objective, n_trials=20)\n",
        "print(\"Best trial parameters:\", study.best_params)\n"
      ],
      "metadata": {
        "id": "tqQsG4YttjhO",
        "outputId": "1ebd4db8-899e-415d-a0d0-5c54059a1875",
        "colab": {
          "base_uri": "https://localhost:8080/",
          "height": 383
        }
      },
      "execution_count": 20,
      "outputs": [
        {
          "output_type": "error",
          "ename": "ModuleNotFoundError",
          "evalue": "No module named 'optuna'",
          "traceback": [
            "\u001b[0;31m---------------------------------------------------------------------------\u001b[0m",
            "\u001b[0;31mModuleNotFoundError\u001b[0m                       Traceback (most recent call last)",
            "\u001b[0;32m<ipython-input-20-3dc0e1f94db6>\u001b[0m in \u001b[0;36m<cell line: 1>\u001b[0;34m()\u001b[0m\n\u001b[0;32m----> 1\u001b[0;31m \u001b[0;32mimport\u001b[0m \u001b[0moptuna\u001b[0m\u001b[0;34m\u001b[0m\u001b[0;34m\u001b[0m\u001b[0m\n\u001b[0m\u001b[1;32m      2\u001b[0m \u001b[0;32mfrom\u001b[0m \u001b[0msklearn\u001b[0m\u001b[0;34m.\u001b[0m\u001b[0mmodel_selection\u001b[0m \u001b[0;32mimport\u001b[0m \u001b[0mcross_val_score\u001b[0m\u001b[0;34m\u001b[0m\u001b[0;34m\u001b[0m\u001b[0m\n\u001b[1;32m      3\u001b[0m \u001b[0;34m\u001b[0m\u001b[0m\n\u001b[1;32m      4\u001b[0m \u001b[0;32mdef\u001b[0m \u001b[0mobjective\u001b[0m\u001b[0;34m(\u001b[0m\u001b[0mtrial\u001b[0m\u001b[0;34m)\u001b[0m\u001b[0;34m:\u001b[0m\u001b[0;34m\u001b[0m\u001b[0;34m\u001b[0m\u001b[0m\n\u001b[1;32m      5\u001b[0m     \u001b[0msvc_c\u001b[0m \u001b[0;34m=\u001b[0m \u001b[0mtrial\u001b[0m\u001b[0;34m.\u001b[0m\u001b[0msuggest_loguniform\u001b[0m\u001b[0;34m(\u001b[0m\u001b[0;34m'svc_c'\u001b[0m\u001b[0;34m,\u001b[0m \u001b[0;36m1e-3\u001b[0m\u001b[0;34m,\u001b[0m \u001b[0;36m1e3\u001b[0m\u001b[0;34m)\u001b[0m\u001b[0;34m\u001b[0m\u001b[0;34m\u001b[0m\u001b[0m\n",
            "\u001b[0;31mModuleNotFoundError\u001b[0m: No module named 'optuna'",
            "",
            "\u001b[0;31m---------------------------------------------------------------------------\u001b[0;32m\nNOTE: If your import is failing due to a missing package, you can\nmanually install dependencies using either !pip or !apt.\n\nTo view examples of installing some common dependencies, click the\n\"Open Examples\" button below.\n\u001b[0;31m---------------------------------------------------------------------------\u001b[0m\n"
          ],
          "errorDetails": {
            "actions": [
              {
                "action": "open_url",
                "actionText": "Open Examples",
                "url": "/notebooks/snippets/importing_libraries.ipynb"
              }
            ]
          }
        }
      ]
    }
  ]
}